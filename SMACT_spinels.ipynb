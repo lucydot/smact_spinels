{
 "cells": [
  {
   "cell_type": "markdown",
   "id": "minimal-malpractice",
   "metadata": {},
   "source": [
    "We are going to use SMACT to generate possible spinel compositions. To do so, we will adapt a tutorial on the SMACT repository: https://github.com/WMD-group/SMACT/blob/master/examples/Inverse_perovskites/Inverse_formate_perovskites.ipynb.\n",
    "\n",
    "This example is for the perovskite structure. We are going to do a similar approach, but for the spinel structure: https://chem.libretexts.org/Bookshelves/Inorganic_Chemistry/Book%3A_Introduction_to_Inorganic_Chemistry/08%3A_Ionic_and_Covalent_Solids_-_Structures/8.07%3A_Spinel_Perovskite_and_Rutile_Structures\n",
    "\n",
    "As outlined in the example, there is a tolerance factor for perovskites. This indicates whether a composition will form the perovskite structure based on geometric considerations alone (ionic radii). There is an equivalent tolerance factor for the spinels: https://pubs.acs.org/doi/pdf/10.1021/acs.cgd.9b01673\n",
    "\n",
    "**For the first part of your project you should write a similar notebook tutorial (with text, images and python code) but for the spinel structure.**\n",
    "\n",
    "To adapt the code in the example we need to think about:\n",
    "\n",
    "1) the \"elements of interest\" for the A,B and X ions: how will we restrict the search space?\n",
    "\n",
    "--> `X` is an anion. It could be any element in group 16 or 17. `A` and `B` can be any element up to Francium\n",
    "\n",
    "\n",
    "2) what are the possiblecharge states of the A,B ions?\n",
    "\n",
    "--> A: [1-6]+, B: [1,2,3]+\n",
    "\n",
    "3) what is the coordination number for each lattice site\n",
    "\n",
    "A: tetrahedral, B: octahedral, X: tetrahedral\n",
    "\n",
    "4) what happens if the oxidation state data isn't available?\n",
    "\n",
    "-->This is discussed in the tolerance factor paper: for tetrahedral sites there is a scaling factor that can be used to calculate the Shannon radius from the octahedral site radius.\n",
    "\n",
    "5) So far we have note considered the application: batteries. How does this restrict the search space?\n",
    "\n",
    "---> `A` is the active metal ion (groups 1 and 2 of the periodic table).  `B` is redox active: a transition metal.\n",
    "\n",
    "6) what other considerations should we take? toxicity, availability, abundance?..."
   ]
  },
  {
   "cell_type": "code",
   "execution_count": null,
   "id": "endless-cabin",
   "metadata": {},
   "outputs": [],
   "source": []
  },
  {
   "cell_type": "code",
   "execution_count": 2,
   "id": "unlike-seeking",
   "metadata": {},
   "outputs": [],
   "source": [
    "import smact\n"
   ]
  },
  {
   "cell_type": "code",
   "execution_count": null,
   "id": "deluxe-advertiser",
   "metadata": {},
   "outputs": [],
   "source": []
  }
 ],
 "metadata": {
  "kernelspec": {
   "display_name": "Python 3",
   "language": "python",
   "name": "python3"
  },
  "language_info": {
   "codemirror_mode": {
    "name": "ipython",
    "version": 3
   },
   "file_extension": ".py",
   "mimetype": "text/x-python",
   "name": "python",
   "nbconvert_exporter": "python",
   "pygments_lexer": "ipython3",
   "version": "3.7.9"
  }
 },
 "nbformat": 4,
 "nbformat_minor": 5
}
