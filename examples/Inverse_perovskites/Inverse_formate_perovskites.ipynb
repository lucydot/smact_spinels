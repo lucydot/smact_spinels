{
 "cells": [
  {
   "cell_type": "markdown",
   "metadata": {},
   "source": [
    "# Formate perovskites\n",
    "\n",
    "Perovskites are an important class of inorganic materials, particularly for solar energy applications.\n",
    "Usually, the perovskite structure contains an A cation, a B cation and an C anion in the ratio 1:1:3 (black, blue and red in the figure below, respectively, [see wikipeidia for more information](https://en.wikipedia.org/wiki/Perovskite_(structure)).\n",
    "\n",
    "<img src=\"Perovskite.jpg\">\n",
    "\n",
    "\n",
    "Here we search for charge inverted perovskites, i.e. with an anion on the A site. This class of material is closely related to perovskites, and may represent another fruitful search space for new photovoltaic materials. \n",
    "\n",
    "In this example  we assume a simple [formate moelcule](https://en.wikipedia.org/wiki/Formate) as the C-site and uses [Goldschmidt ratio rules](https://en.wikipedia.org/wiki/Goldschmidt_tolerance_factor) as part of the screening.\n",
    "These rules allow us to estimate whether or not a perovskite structure is likely to form based on data about ionic size alone. The tolerance factor is defined as a ratio of the radii of the A, B and C species\n",
    "\n",
    "\n",
    "\\begin{equation*}\n",
    "t = \\frac{r^A + r^C}{\\sqrt{2}(r^B + r^C)} ,\n",
    "\\end{equation*}\n",
    "\n",
    "Values of t > 1 imply a relatively large A site favoring a hexagonal structure, 0.9 < t < 1 predicts a cubic structure, and 0.7 < t < 0.9 means that the A site is small, preferring an orthorhombic structure. For t < 0.7, other (non-perovskite) structures are predicted.\n",
    "\n",
    "We also apply the standard charge neutrality and electronegativity tests as described [in the docs](https://smact.readthedocs.io/en/latest/examples.html#neutral-combinations).\n",
    "\n",
    "\n",
    "We outline 2 approaches for achieveing the same result:\n",
    "\n",
    "1. The methodology is written out explicitly for transparency, including accessing the `smact` data directory directly and storing element and species information as simple lists of strings, ints and floats.\n",
    "\n",
    "2. Fewer lines of code are used, making use of inbuilt `smact` functions. Element and species information is stored directly as Element and Species objects."
   ]
  },
  {
   "cell_type": "code",
   "execution_count": 1,
   "metadata": {},
   "outputs": [],
   "source": [
    "### IMPORTS ###\n",
    "get_ipython().magic(u'matplotlib inline') # plots appear in the notebook\n",
    "import smact\n",
    "from smact import Species, Element\n",
    "import smact.lattice as lattice\n",
    "import smact.screening as screening\n",
    "\n",
    "from itertools import product\n",
    "import copy\n",
    "import os\n",
    "import csv\n",
    "import numpy as np\n",
    "import matplotlib.pyplot as plt\n",
    "import matplotlib\n",
    "from smact import data_directory"
   ]
  },
  {
   "cell_type": "markdown",
   "metadata": {},
   "source": [
    "First we define the positions of the 3 sites in the perovskite structure and specify the allowed oxidation states at each site. Note that the A site is defined as an anion (i.e. with a -1 oxidation state)."
   ]
  },
  {
   "cell_type": "code",
   "execution_count": 2,
   "metadata": {},
   "outputs": [],
   "source": [
    "site_A = lattice.Site([0,0,0],[-1])\n",
    "site_B = lattice.Site([0.5,0.5,0.5],[+5,+4])\n",
    "site_C = lattice.Site([0.5,0.5,0.5],[-2,-1])\n",
    "perovskite = lattice.Lattice([site_A,site_B,site_C],space_group=221)"
   ]
  },
  {
   "cell_type": "markdown",
   "metadata": {},
   "source": [
    "___\n",
    "### Approach 1"
   ]
  },
  {
   "cell_type": "markdown",
   "metadata": {},
   "source": [
    "We now search through the elements of interest (Li-Fr) and find those that are allowed on each site. In this example, we use the F- anion with an increased Shannon radius to simulate the formate anion. We access the Shannon radii data directly from the smact data directory and are interested in the octahedral (6_n) Shannon radius. "
   ]
  },
  {
   "cell_type": "code",
   "execution_count": 3,
   "metadata": {},
   "outputs": [],
   "source": [
    "search = smact.ordered_elements(3,87) # Li - Fr\n",
    "\n",
    "A_list = []               # will be populated with anions\n",
    "B_list = []               # will be populated with cations\n",
    "C_list = [['F',-1,4.47]]  # is always the \"formate anion\"\n",
    "for element in search:\n",
    "    with open(os.path.join(data_directory, 'shannon_radii.csv'),'r') as f:\n",
    "        reader = csv.reader(f)\n",
    "        r_shannon=False\n",
    "        for row in reader:\n",
    "            if row[2] ==\"6_n\" and row[0]==element and int(row[1]) in site_A.oxidation_states:\n",
    "                A_list.append([row[0],int(row[1]),float(row[4])])\n",
    "            if row[2]==\"6_n\" and row[0]==element and int(row[1]) in site_B.oxidation_states:\n",
    "                B_list.append([row[0],int(row[1]),float(row[4])])"
   ]
  },
  {
   "cell_type": "markdown",
   "metadata": {},
   "source": [
    "*NB: We access the data directly from the data directory file here for transparency. However, reading the file multiple times would slow down the code if we were looping over many (perhaps millions to billions) of compositions. As such, reading all the data in once into a dictionary, then accessing that dictionary from within a loop, could be preferable, e.g.:*\n",
    "``` python\n",
    "for element in search:\n",
    "    ...\n",
    "    r_shannon = shannon_radii[element][coordination]\n",
    "    ...\n",
    "```"
   ]
  },
  {
   "cell_type": "markdown",
   "metadata": {},
   "source": [
    "We go through and apply the electronegativity order test (pauling_test) to each combo. Then, we use Goldschmidt tolernace factor to group into crystal structure types."
   ]
  },
  {
   "cell_type": "code",
   "execution_count": 4,
   "metadata": {},
   "outputs": [],
   "source": [
    "# We define the different categories of list we will populate\n",
    "charge_balanced = []\n",
    "goldschmidt_cubic = []\n",
    "goldschmidt_ortho = []\n",
    "a_too_large = []\n",
    "A_B_similar = []\n",
    "pauling_perov = []\n",
    "anion_stats = []\n",
    "\n",
    "# We recursively search all ABC combinations using nested for loops\n",
    "for C in C_list:\n",
    "    anion_hex = 0\n",
    "    anion_cub = 0\n",
    "    anion_ort = 0\n",
    "    for B in B_list:\n",
    "        for A in A_list:\n",
    "            # We check that we have 3 different elements\n",
    "            if B[0] != A[0]:        \n",
    "                # Check for charge neutrality\n",
    "                if int(A[1])+int(B[1])+3*int(C[1]) == 0:\n",
    "                    charge_balanced.append([A[0],B[0],C[0]])\n",
    "                    # We apply the pauling electronegativity test\n",
    "                    paul_a = smact.Element(A[0]).pauling_eneg\n",
    "                    paul_b = smact.Element(B[0]).pauling_eneg\n",
    "                    paul_c = smact.Element(C[0]).pauling_eneg\n",
    "                    electroneg_makes_sense = screening.pauling_test([A[1],B[1],C[1]], [paul_a,paul_b,paul_c])\n",
    "                    if electroneg_makes_sense:\n",
    "                        pauling_perov.append([A[0],B[0],C[0]])\n",
    "                        # We calculate the Goldschmidt tolerance factor\n",
    "                        tol = (float(A[2]) + C[2])/(np.sqrt(2)*(float(B[2])+C[2]))\n",
    "                        if tol > 1.0:\n",
    "                            a_too_large.append([A[0],B[0],C[0]])\n",
    "                            anion_hex = anion_hex+1\n",
    "                        if tol > 0.9 and tol <= 1.0:\n",
    "                            goldschmidt_cubic.append([A[0],B[0],C[0]])\n",
    "                            anion_cub = anion_cub + 1\n",
    "                        if tol >= 0.71 and tol < 0.9:\n",
    "                            goldschmidt_ortho.append([A[0],B[0],C[0]])\n",
    "                            anion_ort = anion_ort + 1\n",
    "                        if tol < 0.71:\n",
    "                            A_B_similar.append([A[0],B[0],C[0]])\n",
    "anion_stats.append([anion_hex,anion_cub,anion_ort])\n",
    "    "
   ]
  },
  {
   "cell_type": "code",
   "execution_count": 5,
   "metadata": {
    "scrolled": true
   },
   "outputs": [
    {
     "name": "stdout",
     "output_type": "stream",
     "text": [
      "[[1, 40, 91]]\n",
      "Number of possible charge neutral perovskites from Li to Fr = 132\n",
      "Number of Pauling senseibe perovskites from Li to Fr = 132\n",
      "Number of possible cubic perovskites from Li to Fr = 40\n",
      "Number of possible ortho perovskites from Li to Fr = 91\n",
      "Number of possible hexagonal perovskites from Li to Fr = 1\n",
      "Number of possible non-perovskites from Li to Fr = 0\n",
      "----------------------------------------------------------------\n",
      "Structures identified with cubic tolerance factor 0.9 < t < 1.0 \n",
      "----------------------------------------------------------------\n",
      "Cl C (HCOO)3\n",
      "Br C (HCOO)3\n",
      "Cl Si (HCOO)3\n",
      "Br Si (HCOO)3\n",
      "I Si (HCOO)3\n",
      "Cl S (HCOO)3\n",
      "Br S (HCOO)3\n",
      "I S (HCOO)3\n",
      "I Ti (HCOO)3\n",
      "Br V (HCOO)3\n",
      "I V (HCOO)3\n",
      "Br Cr (HCOO)3\n",
      "I Cr (HCOO)3\n",
      "Br Mn (HCOO)3\n",
      "I Mn (HCOO)3\n",
      "I Fe (HCOO)3\n",
      "Br Co (HCOO)3\n",
      "I Co (HCOO)3\n",
      "Br Ni (HCOO)3\n",
      "I Ni (HCOO)3\n",
      "Br Ge (HCOO)3\n",
      "I Ge (HCOO)3\n",
      "Br Se (HCOO)3\n",
      "I Se (HCOO)3\n",
      "I Zr (HCOO)3\n",
      "I Nb (HCOO)3\n",
      "I Mo (HCOO)3\n",
      "I Tc (HCOO)3\n",
      "I Ru (HCOO)3\n",
      "I Rh (HCOO)3\n",
      "I Pd (HCOO)3\n",
      "I Sn (HCOO)3\n",
      "I Tb (HCOO)3\n",
      "I Hf (HCOO)3\n",
      "I Ta (HCOO)3\n",
      "I W (HCOO)3\n",
      "I Re (HCOO)3\n",
      "I Os (HCOO)3\n",
      "I Ir (HCOO)3\n",
      "I Pt (HCOO)3\n"
     ]
    },
    {
     "data": {
      "image/png": "[encoded data removed]",
      "text/plain": [
       "<Figure size 432x288 with 1 Axes>"
      ]
     },
     "metadata": {},
     "output_type": "display_data"
    }
   ],
   "source": [
    "print (anion_stats)\n",
    "colours=['#991D1D','#8D6608','#857070']\n",
    "matplotlib.rcParams.update({'font.size': 22})\n",
    "plt.pie(anion_stats[0],labels=['Hex','Cubic','Ortho']\n",
    "        ,startangle=90,autopct='%1.1f%%',colors=colours)\n",
    "plt.axis('equal')\n",
    "plt.savefig('Form-perovskites.png')\n",
    "\n",
    "print ('Number of possible charge neutral perovskites from', search[0], 'to', search[len(search)-1], '=', len(charge_balanced))\n",
    "print ('Number of Pauling sensible perovskites from', search[0], 'to', search[len(search)-1], '=', len(pauling_perov))\n",
    "print ('Number of possible cubic perovskites from', search[0], 'to', search[len(search)-1], '=', len(goldschmidt_cubic))\n",
    "print ('Number of possible ortho perovskites from', search[0], 'to', search[len(search)-1], '=', len(goldschmidt_ortho))\n",
    "print ('Number of possible hexagonal perovskites from', search[0], 'to', search[len(search)-1], '=', len(a_too_large))\n",
    "print ('Number of possible non-perovskites from', search[0], 'to', search[len(search)-1], '=', len(A_B_similar))\n",
    "\n",
    "\n",
    "#print goldschmidt_cubic\n",
    "print( \"----------------------------------------------------------------\")\n",
    "print( \"Structures identified with cubic tolerance factor 0.9 < t < 1.0 \")\n",
    "print( \"----------------------------------------------------------------\")\n",
    "for structure in goldschmidt_cubic:\n",
    "    print( structure[0],structure[1],'(HCOO)3')\n"
   ]
  },
  {
   "cell_type": "markdown",
   "metadata": {},
   "source": [
    "___\n",
    "### Approach 2"
   ]
  },
  {
   "cell_type": "code",
   "execution_count": 6,
   "metadata": {},
   "outputs": [],
   "source": [
    "# Get list of Element objects\n",
    "search = [el for el in smact.ordered_elements(3,87) if \n",
    "                Element(el).oxidation_states]\n",
    "\n",
    "# Covert to list of Species objects\n",
    "all_species = []\n",
    "for el in search:\n",
    "    for oxi_state in Element(el).oxidation_states:\n",
    "        all_species.append(Species(el,oxi_state,\"6_n\"))\n",
    "        \n",
    "# Define lists of interest\n",
    "A_list = [sp for sp in all_species if \n",
    "          (sp.oxidation == -1) and (sp.ionic_radius)]\n",
    "B_list = [sp for sp in all_species if \n",
    "          (4 <= sp.oxidation <= 5) and (sp.ionic_radius)]\n",
    "C_list = [Species('F',-1,4.47)]"
   ]
  },
  {
   "cell_type": "code",
   "execution_count": 7,
   "metadata": {},
   "outputs": [],
   "source": [
    "# We define the different categories of list we will populate\n",
    "charge_balanced = []\n",
    "goldschmidt_cubic = []\n",
    "goldschmidt_ortho = []\n",
    "a_too_large = []\n",
    "A_B_similar = []\n",
    "pauling_perov = []\n",
    "anion_stats = []\n",
    "\n",
    "for combo in product(A_list,B_list,C_list):\n",
    "    A, B, C = combo[0], combo[1], combo[2]\n",
    "    # Check for charge neutrality in 1:1:3 ratio\n",
    "    if (1,1,3) in screening.neutral_ratios(\n",
    "        [A.oxidation, B.oxidation, C.oxidation])[1]:\n",
    "        charge_balanced.append(combo)\n",
    "        # Check for pauling test\n",
    "        if screening.pauling_test([A.oxidation, B.oxidation, C.oxidation],\n",
    "                       [A.pauling_eneg, B.pauling_eneg, C.pauling_eneg]):\n",
    "            pauling_perov.append(combo)\n",
    "            # Calculate tolerance factor\n",
    "            tol = (float(A.ionic_radius) + 4.47)/(np.sqrt(2)*(float(B.ionic_radius)+4.47))\n",
    "            if tol > 1.0:\n",
    "                a_too_large.append(combo)\n",
    "            if tol > 0.9 and tol <= 1.0:\n",
    "                goldschmidt_cubic.append([combo])\n",
    "            if tol >= 0.71 and tol < 0.9:\n",
    "                goldschmidt_ortho.append(combo)\n",
    "            if tol < 0.71:\n",
    "                A_B_similar.append(combo)"
   ]
  },
  {
   "cell_type": "code",
   "execution_count": 9,
   "metadata": {
    "scrolled": false
   },
   "outputs": [
    {
     "name": "stdout",
     "output_type": "stream",
     "text": [
      "Number of possible charge neutral perovskites from Li to Fr = 132\n",
      "Number of Pauling senseibe perovskites from Li to Fr = 132\n",
      "Number of possible cubic perovskites from Li to Fr = 40\n",
      "Number of possible ortho perovskites from Li to Fr = 91\n",
      "Number of possible hexagonal perovskites from Li to Fr = 1\n",
      "Number of possible non-perovskites from Li to Fr = 0\n",
      "----------------------------------------------------------------\n",
      "Structures identified with cubic tolerance factor 0.9 < t < 1.0 \n",
      "----------------------------------------------------------------\n",
      "Cl C (HCOO)3\n",
      "Cl Si (HCOO)3\n",
      "Cl S (HCOO)3\n",
      "Br C (HCOO)3\n",
      "Br Si (HCOO)3\n",
      "Br S (HCOO)3\n",
      "Br V (HCOO)3\n",
      "Br Cr (HCOO)3\n",
      "Br Mn (HCOO)3\n",
      "Br Co (HCOO)3\n",
      "Br Ni (HCOO)3\n",
      "Br Ge (HCOO)3\n",
      "Br Se (HCOO)3\n",
      "I Si (HCOO)3\n",
      "I S (HCOO)3\n",
      "I Ti (HCOO)3\n",
      "I V (HCOO)3\n",
      "I Cr (HCOO)3\n",
      "I Mn (HCOO)3\n",
      "I Fe (HCOO)3\n",
      "I Co (HCOO)3\n",
      "I Ni (HCOO)3\n",
      "I Ge (HCOO)3\n",
      "I Se (HCOO)3\n",
      "I Zr (HCOO)3\n",
      "I Nb (HCOO)3\n",
      "I Mo (HCOO)3\n",
      "I Tc (HCOO)3\n",
      "I Ru (HCOO)3\n",
      "I Rh (HCOO)3\n",
      "I Pd (HCOO)3\n",
      "I Sn (HCOO)3\n",
      "I Tb (HCOO)3\n",
      "I Hf (HCOO)3\n",
      "I Ta (HCOO)3\n",
      "I W (HCOO)3\n",
      "I Re (HCOO)3\n",
      "I Os (HCOO)3\n",
      "I Ir (HCOO)3\n",
      "I Pt (HCOO)3\n"
     ]
    }
   ],
   "source": [
    "print ('Number of possible charge neutral perovskites from', search[0], 'to', search[len(search)-1], '=', len(charge_balanced))\n",
    "print ('Number of Pauling sensible perovskites from', search[0], 'to', search[len(search)-1], '=', len(pauling_perov))\n",
    "print ('Number of possible cubic perovskites from', search[0], 'to', search[len(search)-1], '=', len(goldschmidt_cubic))\n",
    "print ('Number of possible ortho perovskites from', search[0], 'to', search[len(search)-1], '=', len(goldschmidt_ortho))\n",
    "print ('Number of possible hexagonal perovskites from', search[0], 'to', search[len(search)-1], '=', len(a_too_large))\n",
    "print ('Number of possible non-perovskites from', search[0], 'to', search[len(search)-1], '=', len(A_B_similar))\n",
    "\n",
    "\n",
    "#print goldschmidt_cubic\n",
    "print( \"----------------------------------------------------------------\")\n",
    "print( \"Structures identified with cubic tolerance factor 0.9 < t < 1.0 \")\n",
    "print( \"----------------------------------------------------------------\")\n",
    "for structure in goldschmidt_cubic:\n",
    "    print( structure[0][0].symbol,structure[0][1].symbol,'(HCOO)3')\n"
   ]
  }
 ],
 "metadata": {
  "kernelspec": {
   "display_name": "Python 3",
   "language": "python",
   "name": "python3"
  },
  "language_info": {
   "codemirror_mode": {
    "name": "ipython",
    "version": 3
   },
   "file_extension": ".py",
   "mimetype": "text/x-python",
   "name": "python",
   "nbconvert_exporter": "python",
   "pygments_lexer": "ipython3",
   "version": "3.7.1"
  }
 },
 "nbformat": 4,
 "nbformat_minor": 2
}
