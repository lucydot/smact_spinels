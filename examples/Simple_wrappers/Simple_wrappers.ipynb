{
 "cells": [
  {
   "cell_type": "markdown",
   "metadata": {},
   "source": [
    "# Simple wrapers\n",
    "### An example of how `smact` functions might be used from the command line"
   ]
  },
  {
   "cell_type": "markdown",
   "metadata": {},
   "source": [
    "Calculate the band gap according to Walter Harrison’s 1980 work “Electronic Structure and the Properties of Solids: The Physics of the Chemical Bond”. "
   ]
  },
  {
   "cell_type": "code",
   "execution_count": 15,
   "metadata": {},
   "outputs": [
    {
     "name": "stdout",
     "output_type": "stream",
     "text": [
      "usage: band_gap_simple.py [-h] [-a ANION] [-c CATION] [-d DISTANCE] [-v]\n",
      "\n",
      "Compound band gap estimates from elemental data.\n",
      "\n",
      "optional arguments:\n",
      "  -h, --help            show this help message and exit\n",
      "  -a ANION, --anion ANION\n",
      "                        Element symbol for anion.\n",
      "  -c CATION, --cation CATION\n",
      "                        Element symbol for cation.\n",
      "  -d DISTANCE, --distance DISTANCE\n",
      "                        Internuclear separation.\n",
      "  -v, --verbose         More Verbose output.\n",
      "3.8944137939094166\n"
     ]
    }
   ],
   "source": [
    "%%bash\n",
    "python band_gap_simple.py --h\n",
    "python band_gap_simple.py -c Mg -a Cl -d 2.38"
   ]
  }
 ],
 "metadata": {
  "kernelspec": {
   "display_name": "Python 3",
   "language": "python",
   "name": "python3"
  },
  "language_info": {
   "codemirror_mode": {
    "name": "ipython",
    "version": 3
   },
   "file_extension": ".py",
   "mimetype": "text/x-python",
   "name": "python",
   "nbconvert_exporter": "python",
   "pygments_lexer": "ipython3",
   "version": "3.6.8"
  }
 },
 "nbformat": 4,
 "nbformat_minor": 2
}
